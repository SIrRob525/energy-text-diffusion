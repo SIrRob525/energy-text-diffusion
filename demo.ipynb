{
 "cells": [
  {
   "cell_type": "markdown",
   "id": "85c3c101",
   "metadata": {},
   "source": [
    "# Energy-based Diffusion Model for Text Generation"
   ]
  },
  {
   "cell_type": "markdown",
   "id": "f44b2eea",
   "metadata": {},
   "source": [
    "### Step 1: Imports"
   ]
  },
  {
   "cell_type": "markdown",
   "id": "16a07f90",
   "metadata": {},
   "source": [
    "The working environment is in `environment.yml` but it may contain a lot of unrelated dependencies."
   ]
  },
  {
   "cell_type": "code",
   "execution_count": null,
   "id": "5893ffb3",
   "metadata": {},
   "outputs": [],
   "source": [
    "import os\n",
    "import torch\n",
    "import torch.nn.functional as F\n",
    "from transformers import get_cosine_schedule_with_warmup\n",
    "from EDLM import EnergyDiffusionModel\n",
    "from dataset import get_dataloader, decode_tokens\n",
    "from config import EDLMConfig\n",
    "from tqdm import tqdm"
   ]
  },
  {
   "cell_type": "markdown",
   "id": "5b29f531",
   "metadata": {},
   "source": [
    "### Step 2: Initialize the model"
   ]
  },
  {
   "cell_type": "code",
   "execution_count": null,
   "id": "82993da3",
   "metadata": {},
   "outputs": [],
   "source": [
    "config = EDLMConfig()\n",
    "device = \"cuda:0\" if torch.cuda.is_available() else \"cpu\"\n",
    "\n",
    "_, tokenizer, mask_token_id = get_dataloader(\n",
    "    batch_size=1,\n",
    "    sequence_length=config.sequence_length\n",
    ")\n",
    "\n",
    "model = EnergyDiffusionModel(\n",
    "    vocab_size=len(tokenizer),\n",
    "    max_seq_length=config.sequence_length,\n",
    "    hidden_size=config.hidden_size,\n",
    "    num_layers=config.num_layers,\n",
    "    num_heads=config.num_heads,\n",
    "    mask_token_id=mask_token_id,\n",
    "    dropout=config.dropout,\n",
    "    num_timesteps=config.num_timesteps,\n",
    "    importance_sampling_size=config.importance_sampling_size,\n",
    "    importance_sampling_window=config.importance_sampling_window,\n",
    "    temperature=config.temperature\n",
    ").to(device)"
   ]
  },
  {
   "cell_type": "markdown",
   "id": "12bea8a5",
   "metadata": {},
   "source": [
    "Load from checkpoint:"
   ]
  },
  {
   "cell_type": "code",
   "execution_count": null,
   "id": "f5259752",
   "metadata": {},
   "outputs": [],
   "source": [
    "checkpoint_path = \"checkpoints/last_model.pt\" # Replace with your checkpoint path\n",
    "model.load_state_dict(torch.load(checkpoint_path, map_location=device, weights_only=False))"
   ]
  },
  {
   "cell_type": "markdown",
   "id": "1dcb3909",
   "metadata": {},
   "source": [
    "### Step 3: Predicting masked tokens"
   ]
  },
  {
   "cell_type": "code",
   "execution_count": null,
   "id": "e9e88c11",
   "metadata": {},
   "outputs": [],
   "source": [
    "sequence_length = 128\n",
    "\n",
    "passage = \"Today I went to the store and bought some apples. Then I went home and watched TV.\"\n",
    "\n",
    "_, tokenizer, mask_token_id = get_dataloader(batch_size=1, sequence_length=sequence_length)\n",
    "\n",
    "sequence = tokenizer.encode(passage)\n",
    "padding = [tokenizer.pad_token_id] * (sequence_length - len(sequence))\n",
    "sequence = sequence + padding\n",
    "sequence = torch.tensor(sequence, dtype=torch.long)\n",
    "print(sequence)\n",
    "\n",
    "print(decode_tokens(sequence, tokenizer))"
   ]
  },
  {
   "cell_type": "code",
   "execution_count": null,
   "id": "6680b843",
   "metadata": {},
   "outputs": [],
   "source": [
    "torch.manual_seed(1)\n",
    "\n",
    "t = torch.tensor([100]).to(device)\n",
    "sequence = sequence.to(device)\n",
    "masked_sequence, mask = model.forward(sequence.unsqueeze(0), t)\n",
    "print(decode_tokens(masked_sequence[0], tokenizer))"
   ]
  },
  {
   "cell_type": "markdown",
   "id": "96364e32",
   "metadata": {},
   "source": [
    "Highest predictions for \",\" / \"the\" / \"\\n\" — some bug during training"
   ]
  },
  {
   "cell_type": "code",
   "execution_count": null,
   "id": "d1dfd77d",
   "metadata": {},
   "outputs": [],
   "source": [
    "logits = model.backward(masked_sequence, t)[mask]\n",
    "denoised_sequence = masked_sequence.clone()\n",
    "print(decode_tokens(denoised_sequence[0], tokenizer))\n",
    "denoised_sequence[mask] = torch.argmax(logits, dim=-1)\n",
    "print(decode_tokens(denoised_sequence[0], tokenizer))"
   ]
  },
  {
   "cell_type": "code",
   "execution_count": null,
   "id": "c232e1b4",
   "metadata": {},
   "outputs": [],
   "source": [
    "logits"
   ]
  },
  {
   "cell_type": "markdown",
   "id": "9ef887e3",
   "metadata": {},
   "source": [
    "### Step 4: Generating text"
   ]
  },
  {
   "cell_type": "code",
   "execution_count": null,
   "id": "8f84aa42",
   "metadata": {},
   "outputs": [],
   "source": [
    "model.eval()\n",
    "\n",
    "generated_tokens = model.generate(\n",
    "    batch_size=1,\n",
    "    temperature=2.0,\n",
    "    device=device\n",
    ")\n",
    "\n",
    "print(decode_tokens(generated_tokens[0], tokenizer))"
   ]
  }
 ],
 "metadata": {
  "kernelspec": {
   "display_name": "hw",
   "language": "python",
   "name": "python3"
  },
  "language_info": {
   "codemirror_mode": {
    "name": "ipython",
    "version": 3
   },
   "file_extension": ".py",
   "mimetype": "text/x-python",
   "name": "python",
   "nbconvert_exporter": "python",
   "pygments_lexer": "ipython3",
   "version": "3.11.11"
  }
 },
 "nbformat": 4,
 "nbformat_minor": 5
}
